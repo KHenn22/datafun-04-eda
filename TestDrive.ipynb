{
 "cells": [
  {
   "cell_type": "markdown",
   "id": "153bcf40-152f-4f42-9ed2-7133d7eaaf3a",
   "metadata": {},
   "source": [
    "Kevin Hennelly : Exploratory Data Analysis Project 9/9/2025"
   ]
  },
  {
   "cell_type": "markdown",
   "id": "4acd0b6f-7b4f-44d3-b475-14e0d1dca466",
   "metadata": {},
   "source": [
    "# 1. Imports"
   ]
  },
  {
   "cell_type": "code",
   "execution_count": null,
   "id": "a28a0a49-7e31-4fcf-a4af-b75a0736c809",
   "metadata": {},
   "outputs": [],
   "source": [
    "import pandas as pd\n",
    "import seaborn as sns\n",
    "import matplotlib \n",
    "\n",
    "# Axes object (basic plot type returned by Seaborn)\n",
    "from matplotlib.axes import Axes"
   ]
  },
  {
   "cell_type": "markdown",
   "id": "a5b9628a-033b-43b7-ba72-f7d9c779507b",
   "metadata": {},
   "source": [
    "# 2. Load Data"
   ]
  },
  {
   "cell_type": "code",
   "execution_count": null,
   "id": "3d9a4a4b-7bad-415c-adae-4120de764db0",
   "metadata": {},
   "outputs": [],
   "source": [
    "# Load the Iris dataset into pandas DataFrame\n",
    "iris_df: pd.DataFrame = sns.load_dataset('iris')\n",
    "\n",
    "# List column names\n",
    "iris_df.columns\n",
    "\n",
    "# Inspect first few rows of the DataFrame\n",
    "iris_df.head()\n"
   ]
  },
  {
   "cell_type": "markdown",
   "id": "6fe70cb1-def2-4fa7-935d-2ddb512cf78d",
   "metadata": {},
   "source": [
    "# 3. Initial Data Inspection"
   ]
  },
  {
   "cell_type": "code",
   "execution_count": null,
   "id": "02ca76d2-c6e9-4fdf-9e09-981c200c3081",
   "metadata": {},
   "outputs": [],
   "source": [
    "# Specify the number of rows to display\n",
    "iris_df.head(10)\n",
    "\n",
    "# Inspect the shape of the DataFrame with shape attribute\n",
    "# The shape is a tuple with count of rows and columns in the DataFrame\n",
    "iris_df.shape\n",
    "\n",
    "# Inspect the data types of the columns with dtypes attribute\n",
    "# The data types are returned as a pandas Series\n",
    "iris_df.dtypes\n",
    "\n",
    "# Inspect the data types of the columns with info() method\n",
    "iris_df.info()"
   ]
  },
  {
   "cell_type": "markdown",
   "id": "416778c2-e86a-42ce-98cd-3b1674592dd5",
   "metadata": {},
   "source": [
    "# 4. Initial Descriptive Statistics"
   ]
  },
  {
   "cell_type": "code",
   "execution_count": null,
   "id": "60efc372-e659-4cdb-a0df-1cb23afb593d",
   "metadata": {},
   "outputs": [],
   "source": [
    "# Inspect summary statistics for numerical columns\n",
    "iris_df.describe()"
   ]
  },
  {
   "cell_type": "markdown",
   "id": "c2956233-f786-4bb6-b436-c2f817895c50",
   "metadata": {},
   "source": [
    "# 5. Initial Data Distribution for Numerical Columns"
   ]
  },
  {
   "cell_type": "code",
   "execution_count": null,
   "id": "116d0b88-204a-4280-afab-0245898d6d33",
   "metadata": {},
   "outputs": [],
   "source": [
    "# Inspect histogram by one numerical column\n",
    "iris_df['sepal_length'].hist()\n",
    "\n",
    "# Inspect histograms for ALL numerical columns\n",
    "iris_df.hist()\n",
    "\n",
    "# Show all plots\n",
    "matplotlib.pyplot.show()"
   ]
  },
  {
   "cell_type": "markdown",
   "id": "a4d71353-dabb-41aa-8135-88d93aff590b",
   "metadata": {},
   "source": [
    "# 6. Initial Data Transformation and Feature Engineering"
   ]
  },
  {
   "cell_type": "code",
   "execution_count": null,
   "id": "b73c9a17-ef20-42af-96dc-104129b5ba41",
   "metadata": {},
   "outputs": [],
   "source": [
    "# Feature Engineering\n",
    "# Renaming a column\n",
    "iris_df.rename(columns={'sepal_length': 'Sepal Length'}, inplace=True)\n",
    "\n",
    "# Adding a new column\n",
    "iris_df['Sepal Area'] = iris_df['Sepal Length'] * iris_df['sepal_width']\n"
   ]
  },
  {
   "cell_type": "markdown",
   "id": "55d250bf-15e6-4dbd-b4ab-db0689f72b9e",
   "metadata": {},
   "source": [
    "# 7. Initial Visualizations"
   ]
  },
  {
   "cell_type": "code",
   "execution_count": null,
   "id": "20b3c7d0-df77-4ec0-8e90-2e7cd8bd2e12",
   "metadata": {},
   "outputs": [],
   "source": [
    "# Feature Engineering\n",
    "# Renaming a column\n",
    "iris_df.rename(columns={'sepal_length': 'Sepal Length'}, inplace=True)\n",
    "\n",
    "# Adding a new column\n",
    "iris_df['Sepal Area'] = iris_df['Sepal Length'] * iris_df['sepal_width']\n",
    "\n",
    "# Create a pairplot of the Iris dataset\n",
    "# A pairplot is a grid of scatter plots for each pair of numerical columns in the dataset\n",
    "# The hue parameter is used to color the data points \n",
    "# by species (a categorical column)\n",
    "sns.pairplot(iris_df, hue='species')\n",
    "\n",
    "# Show all plots\n",
    "matplotlib.pyplot.show()\n",
    "\n",
    "# A scatter plot is a plot of two numerical variables.\n",
    "scatter_plt: Axes = sns.scatterplot(\n",
    "    data=iris_df, x=\"Sepal Length\", y=\"Sepal Area\", hue=\"species\"\n",
    ")\n",
    "\n",
    "# Set axis labels using the Matplotlib Axes methods set_xlabel() and set_ylabel()\n",
    "scatter_plt.set_xlabel(\"Sepal Length (mm)\")\n",
    "scatter_plt.set_ylabel(\"Sepal Area (mm squared)\")   \n",
    "\n",
    "# Set the title using the Matplotlib Axes set_title() method\n",
    "scatter_plt.set_title(\"Chart 1. Iris Sepal Length vs. Sepal Area (by Species)\")\n",
    "\n",
    "matplotlib.pyplot.show()"
   ]
  },
  {
   "cell_type": "markdown",
   "id": "56df5171-2633-46b6-954d-0a94e7821c42",
   "metadata": {},
   "source": [
    "## 7. Initial Visualizations\n",
    "\n",
    "### Pairplot\n",
    "The pairplot provides a grid of scatter plots for each pair of numerical columns in the dataset.  \n",
    "By using the `hue=\"species\"` parameter, we can visually compare how the three iris species differ across sepal and petal dimensions.  \n",
    "We can already notice some separation between species, especially in petal length and petal width.\n",
    "\n",
    "### Scatterplot: Sepal Length vs. Sepal Area\n",
    "This scatterplot shows the relationship between **Sepal Length** and our engineered feature, **Sepal Area**.  \n",
    "By coloring points according to species, we can see clustering patterns that suggest species differences in sepal measurements.\n",
    "\n",
    "**Observations:**\n",
    "- *Setosa* tends to have smaller sepal lengths and areas compared to *Versicolor* and *Virginica*.  \n",
    "- *Virginica* generally has larger sepal measurements overall.  \n",
    "- There is some overlap between *Versicolor* and *Virginica*, but the general trend is visible."
   ]
  },
  {
   "cell_type": "markdown",
   "id": "fe64e418-2195-42b2-a31a-358045d4f5ea",
   "metadata": {
    "jp-MarkdownHeadingCollapsed": true
   },
   "source": [
    "## 8. Initial Insights\n",
    "\n",
    "From the pairplot and scatterplot visualizations, we can draw several early insights:\n",
    "\n",
    "- The iris species show clear differences in petal dimensions, which appear to be good predictors for classification.  \n",
    "- *Setosa* is distinctly separated from *Versicolor* and *Virginica* in most plots.  \n",
    "- *Versicolor* and *Virginica* overlap somewhat, but differences in petal width and length still help distinguish them.  \n",
    "- Our engineered feature **Sepal Area** also highlights separation among species, though not as strongly as petal measurements.\n",
    "\n",
    "These initial insights suggest that the dataset has strong predictive features for distinguishing species, especially when petal measurements are included."
   ]
  },
  {
   "cell_type": "markdown",
   "id": "2b432816-0b27-47d6-90f7-edf1cbccdb69",
   "metadata": {},
   "source": [
    "## 9. Annotate Your Notebook for Storytelling and Presentation\n",
    "\n",
    "This notebook demonstrates an initial exploratory data analysis (EDA) project using the classic Iris dataset.  \n",
    "The goal of this project was to show how pandas, seaborn, and matplotlib can be used to organize, analyze, and visualize data.\n",
    "\n",
    "### Approach\n",
    "1. **Data Preparation** – I began by importing the dataset and inspecting its structure.  \n",
    "2. **Feature Engineering** – I created a new feature, *Sepal Area*, to explore relationships between measurements.  \n",
    "3. **Visualization** – I used pairplots and scatterplots to show how the iris species differ.  \n",
    "4. **Insights** – I documented observations at each step to explain patterns in the data.\n",
    "\n",
    "### Story\n",
    "The Iris dataset is widely used in data science because it provides a simple but powerful example of classification.  \n",
    "Through visualizations, we saw how species can be separated by their measurements. *Setosa* is clearly distinct, while *Versicolor* and *Virginica* overlap but can still be distinguished by certain features like petal length and width.  \n",
    "\n",
    "### Conclusion\n",
    "This notebook provides a clear narrative: starting with the raw data, building new features, and finishing with visualizations that highlight meaningful patterns.  \n",
    "By combining code, charts, and explanations, I’ve created a story that both technical and non-technical audiences can follow. This process demonstrates the value of EDA as a foundation for deeper machine learning and decision-making."
   ]
  }
 ],
 "metadata": {
  "kernelspec": {
   "display_name": "Python 3 (ipykernel)",
   "language": "python",
   "name": "python3"
  },
  "language_info": {
   "codemirror_mode": {
    "name": "ipython",
    "version": 3
   },
   "file_extension": ".py",
   "mimetype": "text/x-python",
   "name": "python",
   "nbconvert_exporter": "python",
   "pygments_lexer": "ipython3",
   "version": "3.13.7"
  }
 },
 "nbformat": 4,
 "nbformat_minor": 5
}
